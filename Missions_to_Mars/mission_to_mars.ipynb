{
 "cells": [
  {
   "cell_type": "code",
   "execution_count": 17,
   "source": [
    "# Import Dependencies \r\n",
    "from splinter import Browser\r\n",
    "from bs4 import BeautifulSoup as bs\r\n",
    "from webdriver_manager.chrome import ChromeDriverManager\r\n",
    "import pandas as pd\r\n",
    "import time"
   ],
   "outputs": [],
   "metadata": {}
  },
  {
   "cell_type": "code",
   "execution_count": 18,
   "source": [
    "# NASA Mars News\r\n",
    "executable_path = {'executable_path': ChromeDriverManager().install()}\r\n",
    "browser = Browser('chrome', **executable_path, headless=False)\r\n",
    "\r\n",
    "nasa_url = 'https://mars.nasa.gov/news/'\r\n",
    "browser.visit(nasa_url)\r\n",
    "\r\n",
    "html = browser.html\r\n",
    "\r\n",
    "news = bs(html, 'html.parser')\r\n",
    "\r\n",
    "news_title = news.find('div',class_='content_title').text\r\n",
    "print(news_title)\r\n",
    "\r\n",
    "news_info= news.find('div',class_='article_body').text\r\n",
    "print(news_info)"
   ],
   "outputs": [
    {
     "output_type": "stream",
     "name": "stderr",
     "text": [
      "\n",
      "\n",
      "====== WebDriver manager ======\n",
      "Current google-chrome version is 91.0.4472\n",
      "Get LATEST driver version for 91.0.4472\n",
      "Driver [C:\\Users\\mikec\\.wdm\\drivers\\chromedriver\\win32\\91.0.4472.101\\chromedriver.exe] found in cache\n"
     ]
    },
    {
     "output_type": "stream",
     "name": "stdout",
     "text": [
      "Mars Now\n",
      "Three studies published in the past month have cast doubt on the premise of subsurface lakes below the Martian south pole.\n"
     ]
    }
   ],
   "metadata": {}
  },
  {
   "cell_type": "code",
   "execution_count": 19,
   "source": [
    "# Mars Space Images\r\n",
    "executable_path = {'executable_path': ChromeDriverManager().install()}\r\n",
    "browser = Browser('chrome', **executable_path, headless=False)\r\n",
    "\r\n",
    "image_url = \"https://spaceimages-mars.com/\"\r\n",
    "browser.visit(image_url)\r\n",
    "\r\n",
    "html = browser.html\r\n",
    "soup = bs(html, 'html.parser')\r\n",
    "\r\n",
    "featured_image = soup.find('img', class_='headerimage fade-in')['src']\r\n",
    "\r\n",
    "#Create one full image url link\r\n",
    "featured_image_url=image_url+featured_image\r\n",
    "print(featured_image_url)"
   ],
   "outputs": [
    {
     "output_type": "stream",
     "name": "stderr",
     "text": [
      "\n",
      "\n",
      "====== WebDriver manager ======\n",
      "Current google-chrome version is 91.0.4472\n",
      "Get LATEST driver version for 91.0.4472\n",
      "Driver [C:\\Users\\mikec\\.wdm\\drivers\\chromedriver\\win32\\91.0.4472.101\\chromedriver.exe] found in cache\n"
     ]
    },
    {
     "output_type": "stream",
     "name": "stdout",
     "text": [
      "https://spaceimages-mars.com/image/featured/mars2.jpg\n"
     ]
    }
   ],
   "metadata": {}
  },
  {
   "cell_type": "code",
   "execution_count": 21,
   "source": [
    "# Mars Facts\r\n",
    "facts_mars = \"https://galaxyfacts-mars.com/\"\r\n",
    "\r\n",
    "facts_table = pd.read_html(facts_mars)\r\n",
    "\r\n",
    "df = facts_table[0]\r\n",
    "header = df.iloc[0]\r\n",
    "mars_facts_df = df[1:]\r\n",
    "mars_facts_df.columns = header\r\n",
    "\r\n",
    "facts = mars_facts_df.to_html()\r\n",
    "facts"
   ],
   "outputs": [
    {
     "output_type": "execute_result",
     "data": {
      "text/plain": [
       "'<table border=\"1\" class=\"dataframe\">\\n  <thead>\\n    <tr style=\"text-align: right;\">\\n      <th></th>\\n      <th>Mars - Earth Comparison</th>\\n      <th>Mars</th>\\n      <th>Earth</th>\\n    </tr>\\n  </thead>\\n  <tbody>\\n    <tr>\\n      <th>1</th>\\n      <td>Diameter:</td>\\n      <td>6,779 km</td>\\n      <td>12,742 km</td>\\n    </tr>\\n    <tr>\\n      <th>2</th>\\n      <td>Mass:</td>\\n      <td>6.39 × 10^23 kg</td>\\n      <td>5.97 × 10^24 kg</td>\\n    </tr>\\n    <tr>\\n      <th>3</th>\\n      <td>Moons:</td>\\n      <td>2</td>\\n      <td>1</td>\\n    </tr>\\n    <tr>\\n      <th>4</th>\\n      <td>Distance from Sun:</td>\\n      <td>227,943,824 km</td>\\n      <td>149,598,262 km</td>\\n    </tr>\\n    <tr>\\n      <th>5</th>\\n      <td>Length of Year:</td>\\n      <td>687 Earth days</td>\\n      <td>365.24 days</td>\\n    </tr>\\n    <tr>\\n      <th>6</th>\\n      <td>Temperature:</td>\\n      <td>-87 to -5 °C</td>\\n      <td>-88 to 58°C</td>\\n    </tr>\\n  </tbody>\\n</table>'"
      ]
     },
     "metadata": {},
     "execution_count": 21
    }
   ],
   "metadata": {}
  },
  {
   "cell_type": "code",
   "execution_count": 25,
   "source": [
    "# Mars Hempishere\r\n",
    "executable_path = {'executable_path': ChromeDriverManager().install()}\r\n",
    "browser = Browser('chrome', **executable_path, headless=False)\r\n",
    "\r\n",
    "hemisphere_url = \"https://marshemispheres.com/\"\r\n",
    "browser.visit(hemisphere_url)\r\n",
    "\r\n",
    "image_urls = []\r\n",
    "\r\n",
    "browser.visit(hemisphere_url)\r\n",
    "html = browser.html\r\n",
    "soup = bs(html, 'html.parser')\r\n",
    "mars_url = soup.find_all('div', class_='item')\r\n",
    "titles=[]\r\n",
    "hemisphere_image_urls=[]\r\n",
    "\r\n",
    "for x in mars_url:\r\n",
    "    title = x.find('h3').text\r\n",
    "    url = x.find('a')['href']\r\n",
    "    mars_image_url= hemisphere_url+url\r\n",
    "    \r\n",
    "    browser.visit(mars_image_url)\r\n",
    "    html = browser.html\r\n",
    "    soup = bs(html, 'html.parser')\r\n",
    "    hemisphere_one= soup.find('div',class_='downloads')\r\n",
    "    hemisphere_two=hemisphere_one.find('a')['href']\r\n",
    "    \r\n",
    "    print(hemisphere_two)\r\n",
    "    img_data=dict({'title':title, 'img_url':hemisphere_two})\r\n",
    "    hemisphere_image_urls.append(img_data)\r\n"
   ],
   "outputs": [
    {
     "output_type": "stream",
     "name": "stderr",
     "text": [
      "\n",
      "\n",
      "====== WebDriver manager ======\n",
      "Current google-chrome version is 91.0.4472\n",
      "Get LATEST driver version for 91.0.4472\n",
      "Driver [C:\\Users\\mikec\\.wdm\\drivers\\chromedriver\\win32\\91.0.4472.101\\chromedriver.exe] found in cache\n"
     ]
    },
    {
     "output_type": "stream",
     "name": "stdout",
     "text": [
      "images/full.jpg\n",
      "images/schiaparelli_enhanced-full.jpg\n",
      "images/syrtis_major_enhanced-full.jpg\n",
      "images/valles_marineris_enhanced-full.jpg\n"
     ]
    }
   ],
   "metadata": {}
  },
  {
   "cell_type": "code",
   "execution_count": 26,
   "source": [
    "hemisphere_image_urls"
   ],
   "outputs": [
    {
     "output_type": "execute_result",
     "data": {
      "text/plain": [
       "[{'title': 'Cerberus Hemisphere Enhanced', 'img_url': 'images/full.jpg'},\n",
       " {'title': 'Schiaparelli Hemisphere Enhanced',\n",
       "  'img_url': 'images/schiaparelli_enhanced-full.jpg'},\n",
       " {'title': 'Syrtis Major Hemisphere Enhanced',\n",
       "  'img_url': 'images/syrtis_major_enhanced-full.jpg'},\n",
       " {'title': 'Valles Marineris Hemisphere Enhanced',\n",
       "  'img_url': 'images/valles_marineris_enhanced-full.jpg'}]"
      ]
     },
     "metadata": {},
     "execution_count": 26
    }
   ],
   "metadata": {}
  }
 ],
 "metadata": {
  "kernelspec": {
   "name": "python3",
   "display_name": "Python 3.8.5 64-bit ('base': conda)"
  },
  "language_info": {
   "codemirror_mode": {
    "name": "ipython",
    "version": 3
   },
   "file_extension": ".py",
   "mimetype": "text/x-python",
   "name": "python",
   "nbconvert_exporter": "python",
   "pygments_lexer": "ipython3",
   "version": "3.8.5"
  },
  "interpreter": {
   "hash": "f5555603b79243ac5f1b07fd20d8f0ff3418464d79d613740d4a5756d8c3f760"
  }
 },
 "nbformat": 4,
 "nbformat_minor": 4
}